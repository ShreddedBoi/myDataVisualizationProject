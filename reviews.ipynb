{
 "cells": [
  {
   "cell_type": "markdown",
   "source": [
    "# 1.Overview of the dataframe"
   ],
   "metadata": {
    "collapsed": false
   }
  },
  {
   "cell_type": "code",
   "execution_count": 34,
   "metadata": {
    "collapsed": true
   },
   "outputs": [],
   "source": [
    "import pandas as pd\n",
    "import datetime as dt\n",
    "from pytz import utc\n",
    "data = pd.read_csv(\"reviews.csv\", parse_dates=[\"Timestamp\"])"
   ]
  },
  {
   "cell_type": "code",
   "execution_count": 3,
   "outputs": [
    {
     "data": {
      "text/plain": "                                         Course Name  \\\n0  The Python Mega Course: Build 10 Real World Ap...   \n1  The Python Mega Course: Build 10 Real World Ap...   \n2  The Python Mega Course: Build 10 Real World Ap...   \n3  The Python Mega Course: Build 10 Real World Ap...   \n4  The Python Mega Course: Build 10 Real World Ap...   \n\n                   Timestamp  Rating Comment  \n0  2021-04-02 06:25:52+00:00     4.0     NaN  \n1  2021-04-02 05:12:34+00:00     4.0     NaN  \n2  2021-04-02 05:11:03+00:00     4.0     NaN  \n3  2021-04-02 03:33:24+00:00     5.0     NaN  \n4  2021-04-02 03:31:49+00:00     4.5     NaN  ",
      "text/html": "<div>\n<style scoped>\n    .dataframe tbody tr th:only-of-type {\n        vertical-align: middle;\n    }\n\n    .dataframe tbody tr th {\n        vertical-align: top;\n    }\n\n    .dataframe thead th {\n        text-align: right;\n    }\n</style>\n<table border=\"1\" class=\"dataframe\">\n  <thead>\n    <tr style=\"text-align: right;\">\n      <th></th>\n      <th>Course Name</th>\n      <th>Timestamp</th>\n      <th>Rating</th>\n      <th>Comment</th>\n    </tr>\n  </thead>\n  <tbody>\n    <tr>\n      <th>0</th>\n      <td>The Python Mega Course: Build 10 Real World Ap...</td>\n      <td>2021-04-02 06:25:52+00:00</td>\n      <td>4.0</td>\n      <td>NaN</td>\n    </tr>\n    <tr>\n      <th>1</th>\n      <td>The Python Mega Course: Build 10 Real World Ap...</td>\n      <td>2021-04-02 05:12:34+00:00</td>\n      <td>4.0</td>\n      <td>NaN</td>\n    </tr>\n    <tr>\n      <th>2</th>\n      <td>The Python Mega Course: Build 10 Real World Ap...</td>\n      <td>2021-04-02 05:11:03+00:00</td>\n      <td>4.0</td>\n      <td>NaN</td>\n    </tr>\n    <tr>\n      <th>3</th>\n      <td>The Python Mega Course: Build 10 Real World Ap...</td>\n      <td>2021-04-02 03:33:24+00:00</td>\n      <td>5.0</td>\n      <td>NaN</td>\n    </tr>\n    <tr>\n      <th>4</th>\n      <td>The Python Mega Course: Build 10 Real World Ap...</td>\n      <td>2021-04-02 03:31:49+00:00</td>\n      <td>4.5</td>\n      <td>NaN</td>\n    </tr>\n  </tbody>\n</table>\n</div>"
     },
     "execution_count": 3,
     "metadata": {},
     "output_type": "execute_result"
    }
   ],
   "source": [
    "data.head()"
   ],
   "metadata": {
    "collapsed": false
   }
  },
  {
   "cell_type": "code",
   "execution_count": 4,
   "outputs": [
    {
     "data": {
      "text/plain": "(45000, 4)"
     },
     "execution_count": 4,
     "metadata": {},
     "output_type": "execute_result"
    }
   ],
   "source": [
    "data.shape"
   ],
   "metadata": {
    "collapsed": false
   }
  },
  {
   "cell_type": "code",
   "execution_count": 5,
   "outputs": [
    {
     "data": {
      "text/plain": "Index(['Course Name', 'Timestamp', 'Rating', 'Comment'], dtype='object')"
     },
     "execution_count": 5,
     "metadata": {},
     "output_type": "execute_result"
    }
   ],
   "source": [
    "data.columns"
   ],
   "metadata": {
    "collapsed": false
   }
  },
  {
   "cell_type": "code",
   "execution_count": 8,
   "outputs": [
    {
     "data": {
      "text/plain": "array([[<Axes: title={'center': 'Rating'}>]], dtype=object)"
     },
     "execution_count": 8,
     "metadata": {},
     "output_type": "execute_result"
    },
    {
     "data": {
      "text/plain": "<Figure size 640x480 with 1 Axes>",
      "image/png": "[encoded data removed]"
     },
     "metadata": {},
     "output_type": "display_data"
    }
   ],
   "source": [
    "import matplotlib\n",
    "data.hist('Rating')"
   ],
   "metadata": {
    "collapsed": false
   }
  },
  {
   "cell_type": "markdown",
   "source": [
    "# 2.Selecting data from the dataframe"
   ],
   "metadata": {
    "collapsed": false
   }
  },
  {
   "cell_type": "markdown",
   "source": [
    "## Select a column"
   ],
   "metadata": {
    "collapsed": false
   }
  },
  {
   "cell_type": "code",
   "execution_count": 11,
   "outputs": [
    {
     "data": {
      "text/plain": "0        4.0\n1        4.0\n2        4.0\n3        5.0\n4        4.5\n        ... \n44995    4.0\n44996    5.0\n44997    5.0\n44998    5.0\n44999    5.0\nName: Rating, Length: 45000, dtype: float64"
     },
     "execution_count": 11,
     "metadata": {},
     "output_type": "execute_result"
    }
   ],
   "source": [
    "data['Rating']"
   ],
   "metadata": {
    "collapsed": false
   }
  },
  {
   "cell_type": "markdown",
   "source": [
    "## Select multiple columns"
   ],
   "metadata": {
    "collapsed": false
   }
  },
  {
   "cell_type": "code",
   "execution_count": 17,
   "outputs": [
    {
     "data": {
      "text/plain": "pandas.core.frame.DataFrame"
     },
     "execution_count": 17,
     "metadata": {},
     "output_type": "execute_result"
    }
   ],
   "source": [
    "data[['Course Name','Rating']]"
   ],
   "metadata": {
    "collapsed": false
   }
  },
  {
   "cell_type": "markdown",
   "source": [
    "## Selecting a row"
   ],
   "metadata": {
    "collapsed": false
   }
  },
  {
   "cell_type": "code",
   "execution_count": 14,
   "outputs": [
    {
     "data": {
      "text/plain": "Course Name    The Python Mega Course: Build 10 Real World Ap...\nTimestamp                              2021-04-02 03:33:24+00:00\nRating                                                       5.0\nComment                                                      NaN\nName: 3, dtype: object"
     },
     "execution_count": 14,
     "metadata": {},
     "output_type": "execute_result"
    }
   ],
   "source": [
    "data.iloc[3]"
   ],
   "metadata": {
    "collapsed": false
   }
  },
  {
   "cell_type": "markdown",
   "source": [
    "## Selecting muliple rows"
   ],
   "metadata": {
    "collapsed": false
   }
  },
  {
   "cell_type": "code",
   "execution_count": 15,
   "outputs": [
    {
     "data": {
      "text/plain": "                                         Course Name  \\\n1  The Python Mega Course: Build 10 Real World Ap...   \n2  The Python Mega Course: Build 10 Real World Ap...   \n\n                   Timestamp  Rating Comment  \n1  2021-04-02 05:12:34+00:00     4.0     NaN  \n2  2021-04-02 05:11:03+00:00     4.0     NaN  ",
      "text/html": "<div>\n<style scoped>\n    .dataframe tbody tr th:only-of-type {\n        vertical-align: middle;\n    }\n\n    .dataframe tbody tr th {\n        vertical-align: top;\n    }\n\n    .dataframe thead th {\n        text-align: right;\n    }\n</style>\n<table border=\"1\" class=\"dataframe\">\n  <thead>\n    <tr style=\"text-align: right;\">\n      <th></th>\n      <th>Course Name</th>\n      <th>Timestamp</th>\n      <th>Rating</th>\n      <th>Comment</th>\n    </tr>\n  </thead>\n  <tbody>\n    <tr>\n      <th>1</th>\n      <td>The Python Mega Course: Build 10 Real World Ap...</td>\n      <td>2021-04-02 05:12:34+00:00</td>\n      <td>4.0</td>\n      <td>NaN</td>\n    </tr>\n    <tr>\n      <th>2</th>\n      <td>The Python Mega Course: Build 10 Real World Ap...</td>\n      <td>2021-04-02 05:11:03+00:00</td>\n      <td>4.0</td>\n      <td>NaN</td>\n    </tr>\n  </tbody>\n</table>\n</div>"
     },
     "execution_count": 15,
     "metadata": {},
     "output_type": "execute_result"
    }
   ],
   "source": [
    "data.iloc[1:3]"
   ],
   "metadata": {
    "collapsed": false
   }
  },
  {
   "cell_type": "markdown",
   "source": [
    "## Selecting a section"
   ],
   "metadata": {
    "collapsed": false
   }
  },
  {
   "cell_type": "code",
   "execution_count": 18,
   "outputs": [
    {
     "data": {
      "text/plain": "                                         Course Name  Rating\n1  The Python Mega Course: Build 10 Real World Ap...     4.0\n2  The Python Mega Course: Build 10 Real World Ap...     4.0",
      "text/html": "<div>\n<style scoped>\n    .dataframe tbody tr th:only-of-type {\n        vertical-align: middle;\n    }\n\n    .dataframe tbody tr th {\n        vertical-align: top;\n    }\n\n    .dataframe thead th {\n        text-align: right;\n    }\n</style>\n<table border=\"1\" class=\"dataframe\">\n  <thead>\n    <tr style=\"text-align: right;\">\n      <th></th>\n      <th>Course Name</th>\n      <th>Rating</th>\n    </tr>\n  </thead>\n  <tbody>\n    <tr>\n      <th>1</th>\n      <td>The Python Mega Course: Build 10 Real World Ap...</td>\n      <td>4.0</td>\n    </tr>\n    <tr>\n      <th>2</th>\n      <td>The Python Mega Course: Build 10 Real World Ap...</td>\n      <td>4.0</td>\n    </tr>\n  </tbody>\n</table>\n</div>"
     },
     "execution_count": 18,
     "metadata": {},
     "output_type": "execute_result"
    }
   ],
   "source": [
    "data[['Course Name','Rating']].iloc[1:3]"
   ],
   "metadata": {
    "collapsed": false
   }
  },
  {
   "cell_type": "markdown",
   "source": [
    "## Selecting a cell"
   ],
   "metadata": {
    "collapsed": false
   }
  },
  {
   "cell_type": "code",
   "execution_count": 19,
   "outputs": [
    {
     "data": {
      "text/plain": "'2021-04-02 05:11:03+00:00'"
     },
     "execution_count": 19,
     "metadata": {},
     "output_type": "execute_result"
    }
   ],
   "source": [
    "data['Timestamp'].iloc[2]"
   ],
   "metadata": {
    "collapsed": false
   }
  },
  {
   "cell_type": "code",
   "execution_count": 20,
   "outputs": [
    {
     "data": {
      "text/plain": "4.0"
     },
     "execution_count": 20,
     "metadata": {},
     "output_type": "execute_result"
    }
   ],
   "source": [
    "data.at[2, 'Rating']"
   ],
   "metadata": {
    "collapsed": false
   }
  },
  {
   "cell_type": "markdown",
   "source": [
    "# 3.Filtering data based on conditions"
   ],
   "metadata": {
    "collapsed": false
   }
  },
  {
   "cell_type": "markdown",
   "source": [
    "## One condition"
   ],
   "metadata": {
    "collapsed": false
   }
  },
  {
   "cell_type": "code",
   "execution_count": 22,
   "outputs": [
    {
     "data": {
      "text/plain": "                                             Course Name  \\\n3      The Python Mega Course: Build 10 Real World Ap...   \n4      The Python Mega Course: Build 10 Real World Ap...   \n5      The Python Mega Course: Build 10 Real World Ap...   \n6      The Python Mega Course: Build 10 Real World Ap...   \n7      The Python Mega Course: Build 10 Real World Ap...   \n...                                                  ...   \n44994  The Python Mega Course: Build 10 Real World Ap...   \n44996  The Python Mega Course: Build 10 Real World Ap...   \n44997  The Python Mega Course: Build 10 Real World Ap...   \n44998                 Python for Beginners with Examples   \n44999  The Python Mega Course: Build 10 Real World Ap...   \n\n                       Timestamp  Rating Comment  \n3      2021-04-02 03:33:24+00:00     5.0     NaN  \n4      2021-04-02 03:31:49+00:00     4.5     NaN  \n5      2021-04-02 01:10:06+00:00     4.5     NaN  \n6      2021-04-02 00:44:54+00:00     4.5     NaN  \n7      2021-04-01 23:42:02+00:00     5.0     NaN  \n...                          ...     ...     ...  \n44994  2018-01-01 01:19:24+00:00     5.0     NaN  \n44996  2018-01-01 01:09:56+00:00     5.0     NaN  \n44997  2018-01-01 01:08:11+00:00     5.0     NaN  \n44998  2018-01-01 01:05:26+00:00     5.0     NaN  \n44999  2018-01-01 01:01:16+00:00     5.0     NaN  \n\n[29758 rows x 4 columns]",
      "text/html": "<div>\n<style scoped>\n    .dataframe tbody tr th:only-of-type {\n        vertical-align: middle;\n    }\n\n    .dataframe tbody tr th {\n        vertical-align: top;\n    }\n\n    .dataframe thead th {\n        text-align: right;\n    }\n</style>\n<table border=\"1\" class=\"dataframe\">\n  <thead>\n    <tr style=\"text-align: right;\">\n      <th></th>\n      <th>Course Name</th>\n      <th>Timestamp</th>\n      <th>Rating</th>\n      <th>Comment</th>\n    </tr>\n  </thead>\n  <tbody>\n    <tr>\n      <th>3</th>\n      <td>The Python Mega Course: Build 10 Real World Ap...</td>\n      <td>2021-04-02 03:33:24+00:00</td>\n      <td>5.0</td>\n      <td>NaN</td>\n    </tr>\n    <tr>\n      <th>4</th>\n      <td>The Python Mega Course: Build 10 Real World Ap...</td>\n      <td>2021-04-02 03:31:49+00:00</td>\n      <td>4.5</td>\n      <td>NaN</td>\n    </tr>\n    <tr>\n      <th>5</th>\n      <td>The Python Mega Course: Build 10 Real World Ap...</td>\n      <td>2021-04-02 01:10:06+00:00</td>\n      <td>4.5</td>\n      <td>NaN</td>\n    </tr>\n    <tr>\n      <th>6</th>\n      <td>The Python Mega Course: Build 10 Real World Ap...</td>\n      <td>2021-04-02 00:44:54+00:00</td>\n      <td>4.5</td>\n      <td>NaN</td>\n    </tr>\n    <tr>\n      <th>7</th>\n      <td>The Python Mega Course: Build 10 Real World Ap...</td>\n      <td>2021-04-01 23:42:02+00:00</td>\n      <td>5.0</td>\n      <td>NaN</td>\n    </tr>\n    <tr>\n      <th>...</th>\n      <td>...</td>\n      <td>...</td>\n      <td>...</td>\n      <td>...</td>\n    </tr>\n    <tr>\n      <th>44994</th>\n      <td>The Python Mega Course: Build 10 Real World Ap...</td>\n      <td>2018-01-01 01:19:24+00:00</td>\n      <td>5.0</td>\n      <td>NaN</td>\n    </tr>\n    <tr>\n      <th>44996</th>\n      <td>The Python Mega Course: Build 10 Real World Ap...</td>\n      <td>2018-01-01 01:09:56+00:00</td>\n      <td>5.0</td>\n      <td>NaN</td>\n    </tr>\n    <tr>\n      <th>44997</th>\n      <td>The Python Mega Course: Build 10 Real World Ap...</td>\n      <td>2018-01-01 01:08:11+00:00</td>\n      <td>5.0</td>\n      <td>NaN</td>\n    </tr>\n    <tr>\n      <th>44998</th>\n      <td>Python for Beginners with Examples</td>\n      <td>2018-01-01 01:05:26+00:00</td>\n      <td>5.0</td>\n      <td>NaN</td>\n    </tr>\n    <tr>\n      <th>44999</th>\n      <td>The Python Mega Course: Build 10 Real World Ap...</td>\n      <td>2018-01-01 01:01:16+00:00</td>\n      <td>5.0</td>\n      <td>NaN</td>\n    </tr>\n  </tbody>\n</table>\n<p>29758 rows × 4 columns</p>\n</div>"
     },
     "execution_count": 22,
     "metadata": {},
     "output_type": "execute_result"
    }
   ],
   "source": [
    "data[data['Rating'] > 4]"
   ],
   "metadata": {
    "collapsed": false
   }
  },
  {
   "cell_type": "code",
   "execution_count": 23,
   "outputs": [
    {
     "data": {
      "text/plain": "Course Name    29758\nTimestamp      29758\nRating         29758\nComment         4927\ndtype: int64"
     },
     "execution_count": 23,
     "metadata": {},
     "output_type": "execute_result"
    }
   ],
   "source": [
    "data[data['Rating'] > 4].count()"
   ],
   "metadata": {
    "collapsed": false
   }
  },
  {
   "cell_type": "code",
   "execution_count": 43,
   "outputs": [
    {
     "data": {
      "text/plain": "3        5.0\n4        4.5\n5        4.5\n6        4.5\n7        5.0\n        ... \n44994    5.0\n44996    5.0\n44997    5.0\n44998    5.0\n44999    5.0\nName: Rating, Length: 29758, dtype: float64"
     },
     "execution_count": 43,
     "metadata": {},
     "output_type": "execute_result"
    }
   ],
   "source": [
    "data[data['Rating'] > 4]['Rating']"
   ],
   "metadata": {
    "collapsed": false
   }
  },
  {
   "cell_type": "markdown",
   "source": [
    "## Multiple conditions"
   ],
   "metadata": {
    "collapsed": false
   }
  },
  {
   "cell_type": "code",
   "execution_count": 27,
   "outputs": [
    {
     "data": {
      "text/plain": "                                             Course Name  \\\n12     100 Python Exercises I: Evaluate and Improve Y...   \n18     100 Python Exercises I: Evaluate and Improve Y...   \n19     100 Python Exercises I: Evaluate and Improve Y...   \n36     100 Python Exercises I: Evaluate and Improve Y...   \n47     100 Python Exercises I: Evaluate and Improve Y...   \n...                                                  ...   \n44917  100 Python Exercises I: Evaluate and Improve Y...   \n44930  100 Python Exercises I: Evaluate and Improve Y...   \n44969  100 Python Exercises I: Evaluate and Improve Y...   \n44981  100 Python Exercises I: Evaluate and Improve Y...   \n44987  100 Python Exercises I: Evaluate and Improve Y...   \n\n                       Timestamp  Rating  \\\n12     2021-04-01 15:03:17+00:00     4.5   \n18     2021-04-01 09:00:03+00:00     4.5   \n19     2021-04-01 08:47:42+00:00     4.5   \n36     2021-03-31 22:15:57+00:00     4.5   \n47     2021-03-31 15:20:17+00:00     5.0   \n...                          ...     ...   \n44917  2018-01-02 16:37:42+00:00     5.0   \n44930  2018-01-02 13:26:02+00:00     5.0   \n44969  2018-01-01 18:02:10+00:00     4.5   \n44981  2018-01-01 13:22:01+00:00     5.0   \n44987  2018-01-01 08:26:56+00:00     5.0   \n\n                                                 Comment  \n12                                                   NaN  \n18                                                   NaN  \n19      Excellent set of practical problems.  Thank you!  \n36                                                   NaN  \n47                                                   NaN  \n...                                                  ...  \n44917                                                NaN  \n44930  Useful introduction to get the most of the cou...  \n44969                                                NaN  \n44981                                                NaN  \n44987                                                NaN  \n\n[967 rows x 4 columns]",
      "text/html": "<div>\n<style scoped>\n    .dataframe tbody tr th:only-of-type {\n        vertical-align: middle;\n    }\n\n    .dataframe tbody tr th {\n        vertical-align: top;\n    }\n\n    .dataframe thead th {\n        text-align: right;\n    }\n</style>\n<table border=\"1\" class=\"dataframe\">\n  <thead>\n    <tr style=\"text-align: right;\">\n      <th></th>\n      <th>Course Name</th>\n      <th>Timestamp</th>\n      <th>Rating</th>\n      <th>Comment</th>\n    </tr>\n  </thead>\n  <tbody>\n    <tr>\n      <th>12</th>\n      <td>100 Python Exercises I: Evaluate and Improve Y...</td>\n      <td>2021-04-01 15:03:17+00:00</td>\n      <td>4.5</td>\n      <td>NaN</td>\n    </tr>\n    <tr>\n      <th>18</th>\n      <td>100 Python Exercises I: Evaluate and Improve Y...</td>\n      <td>2021-04-01 09:00:03+00:00</td>\n      <td>4.5</td>\n      <td>NaN</td>\n    </tr>\n    <tr>\n      <th>19</th>\n      <td>100 Python Exercises I: Evaluate and Improve Y...</td>\n      <td>2021-04-01 08:47:42+00:00</td>\n      <td>4.5</td>\n      <td>Excellent set of practical problems.  Thank you!</td>\n    </tr>\n    <tr>\n      <th>36</th>\n      <td>100 Python Exercises I: Evaluate and Improve Y...</td>\n      <td>2021-03-31 22:15:57+00:00</td>\n      <td>4.5</td>\n      <td>NaN</td>\n    </tr>\n    <tr>\n      <th>47</th>\n      <td>100 Python Exercises I: Evaluate and Improve Y...</td>\n      <td>2021-03-31 15:20:17+00:00</td>\n      <td>5.0</td>\n      <td>NaN</td>\n    </tr>\n    <tr>\n      <th>...</th>\n      <td>...</td>\n      <td>...</td>\n      <td>...</td>\n      <td>...</td>\n    </tr>\n    <tr>\n      <th>44917</th>\n      <td>100 Python Exercises I: Evaluate and Improve Y...</td>\n      <td>2018-01-02 16:37:42+00:00</td>\n      <td>5.0</td>\n      <td>NaN</td>\n    </tr>\n    <tr>\n      <th>44930</th>\n      <td>100 Python Exercises I: Evaluate and Improve Y...</td>\n      <td>2018-01-02 13:26:02+00:00</td>\n      <td>5.0</td>\n      <td>Useful introduction to get the most of the cou...</td>\n    </tr>\n    <tr>\n      <th>44969</th>\n      <td>100 Python Exercises I: Evaluate and Improve Y...</td>\n      <td>2018-01-01 18:02:10+00:00</td>\n      <td>4.5</td>\n      <td>NaN</td>\n    </tr>\n    <tr>\n      <th>44981</th>\n      <td>100 Python Exercises I: Evaluate and Improve Y...</td>\n      <td>2018-01-01 13:22:01+00:00</td>\n      <td>5.0</td>\n      <td>NaN</td>\n    </tr>\n    <tr>\n      <th>44987</th>\n      <td>100 Python Exercises I: Evaluate and Improve Y...</td>\n      <td>2018-01-01 08:26:56+00:00</td>\n      <td>5.0</td>\n      <td>NaN</td>\n    </tr>\n  </tbody>\n</table>\n<p>967 rows × 4 columns</p>\n</div>"
     },
     "execution_count": 27,
     "metadata": {},
     "output_type": "execute_result"
    }
   ],
   "source": [
    "data[(data['Rating'] > 4) & (data['Course Name'] == '100 Python Exercises I: Evaluate and Improve Your Skills')]"
   ],
   "metadata": {
    "collapsed": false
   }
  },
  {
   "cell_type": "markdown",
   "source": [
    "# 4. Time-based filtering"
   ],
   "metadata": {
    "collapsed": false
   }
  },
  {
   "cell_type": "code",
   "execution_count": 36,
   "outputs": [
    {
     "data": {
      "text/plain": "                                            Course Name  \\\n3065  Interactive Data Visualization with Python and...   \n3066  The Python Mega Course: Build 10 Real World Ap...   \n3067  The Python Mega Course: Build 10 Real World Ap...   \n3068  The Python Mega Course: Build 10 Real World Ap...   \n3069  The Python Mega Course: Build 10 Real World Ap...   \n...                                                 ...   \n9729  The Python Mega Course: Build 10 Real World Ap...   \n9730  The Python Mega Course: Build 10 Real World Ap...   \n9731  The Python Mega Course: Build 10 Real World Ap...   \n9732  The Python Mega Course: Build 10 Real World Ap...   \n9733  The Python Mega Course: Build 10 Real World Ap...   \n\n                     Timestamp  Rating  \\\n3065 2020-12-30 23:28:34+00:00     3.0   \n3066 2020-12-30 22:59:02+00:00     4.0   \n3067 2020-12-30 22:40:10+00:00     4.5   \n3068 2020-12-30 21:56:41+00:00     4.5   \n3069 2020-12-30 21:14:34+00:00     4.5   \n...                        ...     ...   \n9729 2020-07-01 03:09:44+00:00     3.5   \n9730 2020-07-01 03:09:12+00:00     5.0   \n9731 2020-07-01 02:40:58+00:00     4.0   \n9732 2020-07-01 02:04:02+00:00     5.0   \n9733 2020-07-01 00:01:34+00:00     2.0   \n\n                                                Comment  \n3065                                                NaN  \n3066                                                NaN  \n3067                                                NaN  \n3068                                                NaN  \n3069                                                NaN  \n...                                                 ...  \n9729                                                NaN  \n9730                                                NaN  \n9731                                                NaN  \n9732                                               nice  \n9733  Hard to follow if u have no experience program...  \n\n[6669 rows x 4 columns]",
      "text/html": "<div>\n<style scoped>\n    .dataframe tbody tr th:only-of-type {\n        vertical-align: middle;\n    }\n\n    .dataframe tbody tr th {\n        vertical-align: top;\n    }\n\n    .dataframe thead th {\n        text-align: right;\n    }\n</style>\n<table border=\"1\" class=\"dataframe\">\n  <thead>\n    <tr style=\"text-align: right;\">\n      <th></th>\n      <th>Course Name</th>\n      <th>Timestamp</th>\n      <th>Rating</th>\n      <th>Comment</th>\n    </tr>\n  </thead>\n  <tbody>\n    <tr>\n      <th>3065</th>\n      <td>Interactive Data Visualization with Python and...</td>\n      <td>2020-12-30 23:28:34+00:00</td>\n      <td>3.0</td>\n      <td>NaN</td>\n    </tr>\n    <tr>\n      <th>3066</th>\n      <td>The Python Mega Course: Build 10 Real World Ap...</td>\n      <td>2020-12-30 22:59:02+00:00</td>\n      <td>4.0</td>\n      <td>NaN</td>\n    </tr>\n    <tr>\n      <th>3067</th>\n      <td>The Python Mega Course: Build 10 Real World Ap...</td>\n      <td>2020-12-30 22:40:10+00:00</td>\n      <td>4.5</td>\n      <td>NaN</td>\n    </tr>\n    <tr>\n      <th>3068</th>\n      <td>The Python Mega Course: Build 10 Real World Ap...</td>\n      <td>2020-12-30 21:56:41+00:00</td>\n      <td>4.5</td>\n      <td>NaN</td>\n    </tr>\n    <tr>\n      <th>3069</th>\n      <td>The Python Mega Course: Build 10 Real World Ap...</td>\n      <td>2020-12-30 21:14:34+00:00</td>\n      <td>4.5</td>\n      <td>NaN</td>\n    </tr>\n    <tr>\n      <th>...</th>\n      <td>...</td>\n      <td>...</td>\n      <td>...</td>\n      <td>...</td>\n    </tr>\n    <tr>\n      <th>9729</th>\n      <td>The Python Mega Course: Build 10 Real World Ap...</td>\n      <td>2020-07-01 03:09:44+00:00</td>\n      <td>3.5</td>\n      <td>NaN</td>\n    </tr>\n    <tr>\n      <th>9730</th>\n      <td>The Python Mega Course: Build 10 Real World Ap...</td>\n      <td>2020-07-01 03:09:12+00:00</td>\n      <td>5.0</td>\n      <td>NaN</td>\n    </tr>\n    <tr>\n      <th>9731</th>\n      <td>The Python Mega Course: Build 10 Real World Ap...</td>\n      <td>2020-07-01 02:40:58+00:00</td>\n      <td>4.0</td>\n      <td>NaN</td>\n    </tr>\n    <tr>\n      <th>9732</th>\n      <td>The Python Mega Course: Build 10 Real World Ap...</td>\n      <td>2020-07-01 02:04:02+00:00</td>\n      <td>5.0</td>\n      <td>nice</td>\n    </tr>\n    <tr>\n      <th>9733</th>\n      <td>The Python Mega Course: Build 10 Real World Ap...</td>\n      <td>2020-07-01 00:01:34+00:00</td>\n      <td>2.0</td>\n      <td>Hard to follow if u have no experience program...</td>\n    </tr>\n  </tbody>\n</table>\n<p>6669 rows × 4 columns</p>\n</div>"
     },
     "execution_count": 36,
     "metadata": {},
     "output_type": "execute_result"
    }
   ],
   "source": [
    "data[(data['Timestamp'] > dt.datetime(2020, 7, 1, tzinfo=utc)) & (data['Timestamp'] < dt.datetime(2020, 12, 31, tzinfo=utc))]"
   ],
   "metadata": {
    "collapsed": false
   }
  },
  {
   "cell_type": "markdown",
   "source": [
    "# 5.From data to information"
   ],
   "metadata": {
    "collapsed": false
   }
  },
  {
   "cell_type": "markdown",
   "source": [
    "## Average rating"
   ],
   "metadata": {
    "collapsed": false
   }
  },
  {
   "cell_type": "code",
   "execution_count": 42,
   "outputs": [
    {
     "data": {
      "text/plain": "4.442155555555556"
     },
     "execution_count": 42,
     "metadata": {},
     "output_type": "execute_result"
    }
   ],
   "source": [
    "data['Rating'].mean()"
   ],
   "metadata": {
    "collapsed": false
   }
  },
  {
   "cell_type": "markdown",
   "source": [
    "## Average rating for a particular course"
   ],
   "metadata": {
    "collapsed": false
   }
  },
  {
   "cell_type": "code",
   "execution_count": 44,
   "outputs": [
    {
     "data": {
      "text/plain": "4.300974901472723"
     },
     "execution_count": 44,
     "metadata": {},
     "output_type": "execute_result"
    }
   ],
   "source": [
    "data[data['Course Name'] == 'Python for Beginners with Examples']['Rating'].mean()"
   ],
   "metadata": {
    "collapsed": false
   }
  },
  {
   "cell_type": "markdown",
   "source": [
    "## Average rating for a particular period"
   ],
   "metadata": {
    "collapsed": false
   }
  },
  {
   "cell_type": "code",
   "execution_count": 46,
   "outputs": [
    {
     "data": {
      "text/plain": "4.476541271662339"
     },
     "execution_count": 46,
     "metadata": {},
     "output_type": "execute_result"
    }
   ],
   "source": [
    "data[(data['Timestamp'] > dt.datetime(2020, 1, 1, tzinfo=utc)) & (data['Timestamp'] < dt.datetime(2020, 12, 31, tzinfo=utc))][\"Rating\"].mean()"
   ],
   "metadata": {
    "collapsed": false
   }
  },
  {
   "cell_type": "markdown",
   "source": [
    "## Average Rating for a particular period for a particular course"
   ],
   "metadata": {
    "collapsed": false
   }
  },
  {
   "cell_type": "code",
   "execution_count": 48,
   "outputs": [
    {
     "data": {
      "text/plain": "4.294915254237288"
     },
     "execution_count": 48,
     "metadata": {},
     "output_type": "execute_result"
    }
   ],
   "source": [
    "data[(data['Timestamp'] > dt.datetime(2020, 1, 1, tzinfo=utc)) &\n",
    "     (data['Timestamp'] < dt.datetime(2020, 12, 31, tzinfo=utc))&\n",
    "     (data['Course Name'] == 'Python for Beginners with Examples')][\"Rating\"].mean()"
   ],
   "metadata": {
    "collapsed": false
   }
  },
  {
   "cell_type": "markdown",
   "source": [
    "## Average of uncommented ratings"
   ],
   "metadata": {
    "collapsed": false
   }
  },
  {
   "cell_type": "code",
   "execution_count": 49,
   "outputs": [
    {
     "data": {
      "text/plain": "4.433679746603492"
     },
     "execution_count": 49,
     "metadata": {},
     "output_type": "execute_result"
    }
   ],
   "source": [
    "data[data['Comment'].isnull()]['Rating'].mean()"
   ],
   "metadata": {
    "collapsed": false
   }
  },
  {
   "cell_type": "markdown",
   "source": [
    "## Average of commented ratings"
   ],
   "metadata": {
    "collapsed": false
   }
  },
  {
   "cell_type": "code",
   "execution_count": 51,
   "outputs": [
    {
     "data": {
      "text/plain": "4.489777908515959"
     },
     "execution_count": 51,
     "metadata": {},
     "output_type": "execute_result"
    }
   ],
   "source": [
    "data[data['Comment'].notnull()]['Rating'].mean()"
   ],
   "metadata": {
    "collapsed": false
   }
  },
  {
   "cell_type": "markdown",
   "source": [
    "## Number of uncommented ratings"
   ],
   "metadata": {
    "collapsed": false
   }
  },
  {
   "cell_type": "code",
   "execution_count": 52,
   "outputs": [
    {
     "data": {
      "text/plain": "38201"
     },
     "execution_count": 52,
     "metadata": {},
     "output_type": "execute_result"
    }
   ],
   "source": [
    "data[data['Comment'].isnull()]['Rating'].count()"
   ],
   "metadata": {
    "collapsed": false
   }
  },
  {
   "cell_type": "markdown",
   "source": [
    "## Number of commented ratings"
   ],
   "metadata": {
    "collapsed": false
   }
  },
  {
   "cell_type": "code",
   "execution_count": 53,
   "outputs": [
    {
     "data": {
      "text/plain": "6799"
     },
     "execution_count": 53,
     "metadata": {},
     "output_type": "execute_result"
    }
   ],
   "source": [
    "data[data['Comment'].notnull()]['Rating'].count()"
   ],
   "metadata": {
    "collapsed": false
   }
  },
  {
   "cell_type": "markdown",
   "source": [
    "## Number of comments containing a certain word"
   ],
   "metadata": {
    "collapsed": false
   }
  },
  {
   "cell_type": "code",
   "execution_count": 57,
   "outputs": [
    {
     "data": {
      "text/plain": "77"
     },
     "execution_count": 57,
     "metadata": {},
     "output_type": "execute_result"
    }
   ],
   "source": [
    "data[data['Comment'].str.contains('accent', na=False)]['Rating'].count() #na = false -- where it is not null"
   ],
   "metadata": {
    "collapsed": false
   }
  },
  {
   "cell_type": "markdown",
   "source": [
    "## Average of commented ratings with \"accent\" in comment"
   ],
   "metadata": {
    "collapsed": false
   }
  },
  {
   "cell_type": "code",
   "execution_count": 58,
   "outputs": [
    {
     "data": {
      "text/plain": "3.8636363636363638"
     },
     "execution_count": 58,
     "metadata": {},
     "output_type": "execute_result"
    }
   ],
   "source": [
    "data[data['Comment'].str.contains('accent', na=False)]['Rating'].mean()"
   ],
   "metadata": {
    "collapsed": false
   }
  },
  {
   "cell_type": "code",
   "execution_count": null,
   "outputs": [],
   "source": [],
   "metadata": {
    "collapsed": false
   }
  }
 ],
 "metadata": {
  "kernelspec": {
   "display_name": "Python 3",
   "language": "python",
   "name": "python3"
  },
  "language_info": {
   "codemirror_mode": {
    "name": "ipython",
    "version": 2
   },
   "file_extension": ".py",
   "mimetype": "text/x-python",
   "name": "python",
   "nbconvert_exporter": "python",
   "pygments_lexer": "ipython2",
   "version": "2.7.6"
  }
 },
 "nbformat": 4,
 "nbformat_minor": 0
}
